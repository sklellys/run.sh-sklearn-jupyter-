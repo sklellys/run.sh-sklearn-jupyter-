{
 "cells": [
  {
   "cell_type": "markdown",
   "id": "8b225f39",
   "metadata": {},
   "source": [
    "### Kepler Objects of Interest\n",
    "\n",
    "This dataset is a comprehensive list of all confirmed exoplanets, planetary candidates, and false positives determined on all the transits captured by Kepler. Utilizing the variables in this labeled dataset could make for a solid method of performing supervised learning from different variables in the dataset. See column “Disposition Using Kepler Data” for classification.  \n",
    "Explanation of each column name is in [the dataset](datasets/KOI.csv)"
   ]
  },
  {
   "cell_type": "code",
   "execution_count": 343,
   "id": "4a243c08",
   "metadata": {},
   "outputs": [
    {
     "data": {
      "text/html": [
       "<div>\n",
       "<style scoped>\n",
       "    .dataframe tbody tr th:only-of-type {\n",
       "        vertical-align: middle;\n",
       "    }\n",
       "\n",
       "    .dataframe tbody tr th {\n",
       "        vertical-align: top;\n",
       "    }\n",
       "\n",
       "    .dataframe thead th {\n",
       "        text-align: right;\n",
       "    }\n",
       "</style>\n",
       "<table border=\"1\" class=\"dataframe\">\n",
       "  <thead>\n",
       "    <tr style=\"text-align: right;\">\n",
       "      <th></th>\n",
       "      <th>kepid</th>\n",
       "      <th>kepoi_name</th>\n",
       "      <th>kepler_name</th>\n",
       "      <th>koi_disposition</th>\n",
       "      <th>koi_pdisposition</th>\n",
       "      <th>koi_score</th>\n",
       "      <th>koi_fpflag_nt</th>\n",
       "      <th>koi_fpflag_ss</th>\n",
       "      <th>koi_fpflag_co</th>\n",
       "      <th>koi_fpflag_ec</th>\n",
       "      <th>...</th>\n",
       "      <th>koi_steff_err2</th>\n",
       "      <th>koi_slogg</th>\n",
       "      <th>koi_slogg_err1</th>\n",
       "      <th>koi_slogg_err2</th>\n",
       "      <th>koi_srad</th>\n",
       "      <th>koi_srad_err1</th>\n",
       "      <th>koi_srad_err2</th>\n",
       "      <th>ra</th>\n",
       "      <th>dec</th>\n",
       "      <th>koi_kepmag</th>\n",
       "    </tr>\n",
       "  </thead>\n",
       "  <tbody>\n",
       "    <tr>\n",
       "      <th>0</th>\n",
       "      <td>10797460</td>\n",
       "      <td>K00752.01</td>\n",
       "      <td>Kepler-227 b</td>\n",
       "      <td>CONFIRMED</td>\n",
       "      <td>CANDIDATE</td>\n",
       "      <td>1.000</td>\n",
       "      <td>0</td>\n",
       "      <td>0</td>\n",
       "      <td>0</td>\n",
       "      <td>0</td>\n",
       "      <td>...</td>\n",
       "      <td>-81.0</td>\n",
       "      <td>4.467</td>\n",
       "      <td>0.064</td>\n",
       "      <td>-0.096</td>\n",
       "      <td>0.927</td>\n",
       "      <td>0.105</td>\n",
       "      <td>-0.061</td>\n",
       "      <td>291.93423</td>\n",
       "      <td>48.141651</td>\n",
       "      <td>15.347</td>\n",
       "    </tr>\n",
       "    <tr>\n",
       "      <th>1</th>\n",
       "      <td>10797460</td>\n",
       "      <td>K00752.02</td>\n",
       "      <td>Kepler-227 c</td>\n",
       "      <td>CONFIRMED</td>\n",
       "      <td>CANDIDATE</td>\n",
       "      <td>0.969</td>\n",
       "      <td>0</td>\n",
       "      <td>0</td>\n",
       "      <td>0</td>\n",
       "      <td>0</td>\n",
       "      <td>...</td>\n",
       "      <td>-81.0</td>\n",
       "      <td>4.467</td>\n",
       "      <td>0.064</td>\n",
       "      <td>-0.096</td>\n",
       "      <td>0.927</td>\n",
       "      <td>0.105</td>\n",
       "      <td>-0.061</td>\n",
       "      <td>291.93423</td>\n",
       "      <td>48.141651</td>\n",
       "      <td>15.347</td>\n",
       "    </tr>\n",
       "    <tr>\n",
       "      <th>2</th>\n",
       "      <td>10811496</td>\n",
       "      <td>K00753.01</td>\n",
       "      <td>NaN</td>\n",
       "      <td>CANDIDATE</td>\n",
       "      <td>CANDIDATE</td>\n",
       "      <td>0.000</td>\n",
       "      <td>0</td>\n",
       "      <td>0</td>\n",
       "      <td>0</td>\n",
       "      <td>0</td>\n",
       "      <td>...</td>\n",
       "      <td>-176.0</td>\n",
       "      <td>4.544</td>\n",
       "      <td>0.044</td>\n",
       "      <td>-0.176</td>\n",
       "      <td>0.868</td>\n",
       "      <td>0.233</td>\n",
       "      <td>-0.078</td>\n",
       "      <td>297.00482</td>\n",
       "      <td>48.134129</td>\n",
       "      <td>15.436</td>\n",
       "    </tr>\n",
       "    <tr>\n",
       "      <th>3</th>\n",
       "      <td>10848459</td>\n",
       "      <td>K00754.01</td>\n",
       "      <td>NaN</td>\n",
       "      <td>FALSE POSITIVE</td>\n",
       "      <td>FALSE POSITIVE</td>\n",
       "      <td>0.000</td>\n",
       "      <td>0</td>\n",
       "      <td>1</td>\n",
       "      <td>0</td>\n",
       "      <td>0</td>\n",
       "      <td>...</td>\n",
       "      <td>-174.0</td>\n",
       "      <td>4.564</td>\n",
       "      <td>0.053</td>\n",
       "      <td>-0.168</td>\n",
       "      <td>0.791</td>\n",
       "      <td>0.201</td>\n",
       "      <td>-0.067</td>\n",
       "      <td>285.53461</td>\n",
       "      <td>48.285210</td>\n",
       "      <td>15.597</td>\n",
       "    </tr>\n",
       "    <tr>\n",
       "      <th>4</th>\n",
       "      <td>10854555</td>\n",
       "      <td>K00755.01</td>\n",
       "      <td>Kepler-664 b</td>\n",
       "      <td>CONFIRMED</td>\n",
       "      <td>CANDIDATE</td>\n",
       "      <td>1.000</td>\n",
       "      <td>0</td>\n",
       "      <td>0</td>\n",
       "      <td>0</td>\n",
       "      <td>0</td>\n",
       "      <td>...</td>\n",
       "      <td>-211.0</td>\n",
       "      <td>4.438</td>\n",
       "      <td>0.070</td>\n",
       "      <td>-0.210</td>\n",
       "      <td>1.046</td>\n",
       "      <td>0.334</td>\n",
       "      <td>-0.133</td>\n",
       "      <td>288.75488</td>\n",
       "      <td>48.226200</td>\n",
       "      <td>15.509</td>\n",
       "    </tr>\n",
       "  </tbody>\n",
       "</table>\n",
       "<p>5 rows × 49 columns</p>\n",
       "</div>"
      ],
      "text/plain": [
       "      kepid kepoi_name   kepler_name koi_disposition koi_pdisposition  \\\n",
       "0  10797460  K00752.01  Kepler-227 b       CONFIRMED        CANDIDATE   \n",
       "1  10797460  K00752.02  Kepler-227 c       CONFIRMED        CANDIDATE   \n",
       "2  10811496  K00753.01           NaN       CANDIDATE        CANDIDATE   \n",
       "3  10848459  K00754.01           NaN  FALSE POSITIVE   FALSE POSITIVE   \n",
       "4  10854555  K00755.01  Kepler-664 b       CONFIRMED        CANDIDATE   \n",
       "\n",
       "   koi_score  koi_fpflag_nt  koi_fpflag_ss  koi_fpflag_co  koi_fpflag_ec  ...  \\\n",
       "0      1.000              0              0              0              0  ...   \n",
       "1      0.969              0              0              0              0  ...   \n",
       "2      0.000              0              0              0              0  ...   \n",
       "3      0.000              0              1              0              0  ...   \n",
       "4      1.000              0              0              0              0  ...   \n",
       "\n",
       "   koi_steff_err2  koi_slogg  koi_slogg_err1  koi_slogg_err2  koi_srad  \\\n",
       "0           -81.0      4.467           0.064          -0.096     0.927   \n",
       "1           -81.0      4.467           0.064          -0.096     0.927   \n",
       "2          -176.0      4.544           0.044          -0.176     0.868   \n",
       "3          -174.0      4.564           0.053          -0.168     0.791   \n",
       "4          -211.0      4.438           0.070          -0.210     1.046   \n",
       "\n",
       "   koi_srad_err1  koi_srad_err2         ra        dec  koi_kepmag  \n",
       "0          0.105         -0.061  291.93423  48.141651      15.347  \n",
       "1          0.105         -0.061  291.93423  48.141651      15.347  \n",
       "2          0.233         -0.078  297.00482  48.134129      15.436  \n",
       "3          0.201         -0.067  285.53461  48.285210      15.597  \n",
       "4          0.334         -0.133  288.75488  48.226200      15.509  \n",
       "\n",
       "[5 rows x 49 columns]"
      ]
     },
     "execution_count": 343,
     "metadata": {},
     "output_type": "execute_result"
    }
   ],
   "source": [
    "import pandas as pd \n",
    "url = 'datasets/KOI.csv'\n",
    "kepler_df = pd.read_csv(url, comment='#')\n",
    "kepler_df.head(5)"
   ]
  },
  {
   "cell_type": "code",
   "execution_count": 344,
   "id": "b8562d67",
   "metadata": {},
   "outputs": [
    {
     "data": {
      "text/plain": [
       "(9564, 49)"
      ]
     },
     "execution_count": 344,
     "metadata": {},
     "output_type": "execute_result"
    }
   ],
   "source": [
    "kepler_df.shape"
   ]
  },
  {
   "cell_type": "markdown",
   "id": "58d1f5d5",
   "metadata": {},
   "source": [
    "Let's inspect missing values first."
   ]
  },
  {
   "cell_type": "code",
   "execution_count": 345,
   "id": "6347b808",
   "metadata": {},
   "outputs": [
    {
     "data": {
      "text/plain": [
       "koi_teq_err2         9564\n",
       "koi_teq_err1         9564\n",
       "kepler_name          6817\n",
       "koi_score            1510\n",
       "koi_steff_err2        483\n",
       "koi_srad_err2         468\n",
       "koi_srad_err1         468\n",
       "koi_slogg_err2        468\n",
       "koi_slogg_err1        468\n",
       "koi_steff_err1        468\n",
       "koi_depth_err2        454\n",
       "koi_impact_err2       454\n",
       "koi_depth_err1        454\n",
       "koi_duration_err2     454\n",
       "koi_duration_err1     454\n",
       "koi_impact_err1       454\n",
       "koi_time0bk_err2      454\n",
       "koi_time0bk_err1      454\n",
       "koi_period_err2       454\n",
       "koi_period_err1       454\n",
       "koi_impact            363\n",
       "koi_prad_err1         363\n",
       "koi_srad              363\n",
       "koi_slogg             363\n",
       "koi_teq               363\n",
       "koi_prad_err2         363\n",
       "koi_prad              363\n",
       "koi_depth             363\n",
       "koi_steff             363\n",
       "koi_model_snr         363\n",
       "koi_tce_plnt_num      346\n",
       "koi_tce_delivname     346\n",
       "koi_insol             321\n",
       "koi_insol_err1        321\n",
       "koi_insol_err2        321\n",
       "koi_kepmag              1\n",
       "kepoi_name              0\n",
       "koi_duration            0\n",
       "koi_time0bk             0\n",
       "koi_period              0\n",
       "koi_fpflag_ec           0\n",
       "koi_fpflag_co           0\n",
       "koi_fpflag_ss           0\n",
       "koi_fpflag_nt           0\n",
       "koi_pdisposition        0\n",
       "koi_disposition         0\n",
       "ra                      0\n",
       "dec                     0\n",
       "kepid                   0\n",
       "dtype: int64"
      ]
     },
     "execution_count": 345,
     "metadata": {},
     "output_type": "execute_result"
    }
   ],
   "source": [
    "kepler_df.isnull().sum().sort_values(ascending=False)\n"
   ]
  },
  {
   "cell_type": "markdown",
   "id": "8aa820da",
   "metadata": {},
   "source": [
    "Columns ending with err can be dropped - these represent the measurement uncertainties. 'kepoi_name' and 'kepler_name' can also be dropped, as they only provide the name and nothing else that might be significant to our model ('kepid' will be left for now). 'koi_tce_delivname' will also be dropped, as this is Kepler's pipeline metadata. 'koi_pdisposition' and 'koi_score' will be dropped, as they are related to the initial judgement of the same KOI and would therefore disrupt the prediction of our model.\n",
    "'koi_teq' and 'koi_insol' are basically the same information in different units - let's drop 'koi_teq'. 'koi_time0bk' can be dropped, as the time reference of transit does not influence the fact if the object is a planet or not. "
   ]
  },
  {
   "cell_type": "code",
   "execution_count": 346,
   "id": "9b7a59b4",
   "metadata": {},
   "outputs": [
    {
     "data": {
      "text/plain": [
       "koi_prad            363\n",
       "koi_depth           363\n",
       "koi_srad            363\n",
       "koi_slogg           363\n",
       "koi_steff           363\n",
       "koi_model_snr       363\n",
       "koi_impact          363\n",
       "koi_tce_plnt_num    346\n",
       "koi_insol           321\n",
       "koi_kepmag            1\n",
       "koi_disposition       0\n",
       "koi_duration          0\n",
       "koi_period            0\n",
       "koi_fpflag_ec         0\n",
       "koi_fpflag_co         0\n",
       "koi_fpflag_ss         0\n",
       "koi_fpflag_nt         0\n",
       "ra                    0\n",
       "dec                   0\n",
       "kepid                 0\n",
       "dtype: int64"
      ]
     },
     "execution_count": 346,
     "metadata": {},
     "output_type": "execute_result"
    }
   ],
   "source": [
    "kepler_clean_df = kepler_df.drop(kepler_df.filter(regex=\"(_err1|_err2)$\").columns, axis=1)\n",
    "subset = ['kepoi_name', 'kepler_name', 'koi_pdisposition', 'koi_score', 'koi_tce_delivname', 'koi_teq', 'koi_time0bk']\n",
    "kepler_clean_df = kepler_clean_df.drop(subset, axis=1)\n",
    "kepler_clean_df.isnull().sum().sort_values(ascending=False)"
   ]
  },
  {
   "cell_type": "markdown",
   "id": "3edc19f8",
   "metadata": {},
   "source": [
    "The maximum number of missing values per column is now less than 4%, but before dropping these rows, let's extract the rows where the assigned label is CANDIDATE - as we do not know whether that is a confirmed exoplanet or a false positive, this would confuse our model without any increase in accuracy."
   ]
  },
  {
   "cell_type": "code",
   "execution_count": 347,
   "id": "9a6811e3",
   "metadata": {},
   "outputs": [
    {
     "data": {
      "text/html": [
       "<div>\n",
       "<style scoped>\n",
       "    .dataframe tbody tr th:only-of-type {\n",
       "        vertical-align: middle;\n",
       "    }\n",
       "\n",
       "    .dataframe tbody tr th {\n",
       "        vertical-align: top;\n",
       "    }\n",
       "\n",
       "    .dataframe thead th {\n",
       "        text-align: right;\n",
       "    }\n",
       "</style>\n",
       "<table border=\"1\" class=\"dataframe\">\n",
       "  <thead>\n",
       "    <tr style=\"text-align: right;\">\n",
       "      <th></th>\n",
       "      <th>kepid</th>\n",
       "      <th>koi_fpflag_nt</th>\n",
       "      <th>koi_fpflag_ss</th>\n",
       "      <th>koi_fpflag_co</th>\n",
       "      <th>koi_fpflag_ec</th>\n",
       "      <th>koi_period</th>\n",
       "      <th>koi_impact</th>\n",
       "      <th>koi_duration</th>\n",
       "      <th>koi_depth</th>\n",
       "      <th>koi_prad</th>\n",
       "      <th>koi_insol</th>\n",
       "      <th>koi_model_snr</th>\n",
       "      <th>koi_tce_plnt_num</th>\n",
       "      <th>koi_steff</th>\n",
       "      <th>koi_slogg</th>\n",
       "      <th>koi_srad</th>\n",
       "      <th>ra</th>\n",
       "      <th>dec</th>\n",
       "      <th>koi_kepmag</th>\n",
       "      <th>label</th>\n",
       "    </tr>\n",
       "  </thead>\n",
       "  <tbody>\n",
       "    <tr>\n",
       "      <th>0</th>\n",
       "      <td>10797460</td>\n",
       "      <td>0</td>\n",
       "      <td>0</td>\n",
       "      <td>0</td>\n",
       "      <td>0</td>\n",
       "      <td>9.488036</td>\n",
       "      <td>0.146</td>\n",
       "      <td>2.95750</td>\n",
       "      <td>615.8</td>\n",
       "      <td>2.26</td>\n",
       "      <td>93.59</td>\n",
       "      <td>35.8</td>\n",
       "      <td>1.0</td>\n",
       "      <td>5455.0</td>\n",
       "      <td>4.467</td>\n",
       "      <td>0.927</td>\n",
       "      <td>291.93423</td>\n",
       "      <td>48.141651</td>\n",
       "      <td>15.347</td>\n",
       "      <td>1</td>\n",
       "    </tr>\n",
       "    <tr>\n",
       "      <th>1</th>\n",
       "      <td>10797460</td>\n",
       "      <td>0</td>\n",
       "      <td>0</td>\n",
       "      <td>0</td>\n",
       "      <td>0</td>\n",
       "      <td>54.418383</td>\n",
       "      <td>0.586</td>\n",
       "      <td>4.50700</td>\n",
       "      <td>874.8</td>\n",
       "      <td>2.83</td>\n",
       "      <td>9.11</td>\n",
       "      <td>25.8</td>\n",
       "      <td>2.0</td>\n",
       "      <td>5455.0</td>\n",
       "      <td>4.467</td>\n",
       "      <td>0.927</td>\n",
       "      <td>291.93423</td>\n",
       "      <td>48.141651</td>\n",
       "      <td>15.347</td>\n",
       "      <td>1</td>\n",
       "    </tr>\n",
       "    <tr>\n",
       "      <th>3</th>\n",
       "      <td>10848459</td>\n",
       "      <td>0</td>\n",
       "      <td>1</td>\n",
       "      <td>0</td>\n",
       "      <td>0</td>\n",
       "      <td>1.736952</td>\n",
       "      <td>1.276</td>\n",
       "      <td>2.40641</td>\n",
       "      <td>8079.2</td>\n",
       "      <td>33.46</td>\n",
       "      <td>891.96</td>\n",
       "      <td>505.6</td>\n",
       "      <td>1.0</td>\n",
       "      <td>5805.0</td>\n",
       "      <td>4.564</td>\n",
       "      <td>0.791</td>\n",
       "      <td>285.53461</td>\n",
       "      <td>48.285210</td>\n",
       "      <td>15.597</td>\n",
       "      <td>0</td>\n",
       "    </tr>\n",
       "    <tr>\n",
       "      <th>4</th>\n",
       "      <td>10854555</td>\n",
       "      <td>0</td>\n",
       "      <td>0</td>\n",
       "      <td>0</td>\n",
       "      <td>0</td>\n",
       "      <td>2.525592</td>\n",
       "      <td>0.701</td>\n",
       "      <td>1.65450</td>\n",
       "      <td>603.3</td>\n",
       "      <td>2.75</td>\n",
       "      <td>926.16</td>\n",
       "      <td>40.9</td>\n",
       "      <td>1.0</td>\n",
       "      <td>6031.0</td>\n",
       "      <td>4.438</td>\n",
       "      <td>1.046</td>\n",
       "      <td>288.75488</td>\n",
       "      <td>48.226200</td>\n",
       "      <td>15.509</td>\n",
       "      <td>1</td>\n",
       "    </tr>\n",
       "    <tr>\n",
       "      <th>5</th>\n",
       "      <td>10872983</td>\n",
       "      <td>0</td>\n",
       "      <td>0</td>\n",
       "      <td>0</td>\n",
       "      <td>0</td>\n",
       "      <td>11.094321</td>\n",
       "      <td>0.538</td>\n",
       "      <td>4.59450</td>\n",
       "      <td>1517.5</td>\n",
       "      <td>3.90</td>\n",
       "      <td>114.81</td>\n",
       "      <td>66.5</td>\n",
       "      <td>1.0</td>\n",
       "      <td>6046.0</td>\n",
       "      <td>4.486</td>\n",
       "      <td>0.972</td>\n",
       "      <td>296.28613</td>\n",
       "      <td>48.224670</td>\n",
       "      <td>15.714</td>\n",
       "      <td>1</td>\n",
       "    </tr>\n",
       "  </tbody>\n",
       "</table>\n",
       "</div>"
      ],
      "text/plain": [
       "      kepid  koi_fpflag_nt  koi_fpflag_ss  koi_fpflag_co  koi_fpflag_ec  \\\n",
       "0  10797460              0              0              0              0   \n",
       "1  10797460              0              0              0              0   \n",
       "3  10848459              0              1              0              0   \n",
       "4  10854555              0              0              0              0   \n",
       "5  10872983              0              0              0              0   \n",
       "\n",
       "   koi_period  koi_impact  koi_duration  koi_depth  koi_prad  koi_insol  \\\n",
       "0    9.488036       0.146       2.95750      615.8      2.26      93.59   \n",
       "1   54.418383       0.586       4.50700      874.8      2.83       9.11   \n",
       "3    1.736952       1.276       2.40641     8079.2     33.46     891.96   \n",
       "4    2.525592       0.701       1.65450      603.3      2.75     926.16   \n",
       "5   11.094321       0.538       4.59450     1517.5      3.90     114.81   \n",
       "\n",
       "   koi_model_snr  koi_tce_plnt_num  koi_steff  koi_slogg  koi_srad         ra  \\\n",
       "0           35.8               1.0     5455.0      4.467     0.927  291.93423   \n",
       "1           25.8               2.0     5455.0      4.467     0.927  291.93423   \n",
       "3          505.6               1.0     5805.0      4.564     0.791  285.53461   \n",
       "4           40.9               1.0     6031.0      4.438     1.046  288.75488   \n",
       "5           66.5               1.0     6046.0      4.486     0.972  296.28613   \n",
       "\n",
       "         dec  koi_kepmag  label  \n",
       "0  48.141651      15.347      1  \n",
       "1  48.141651      15.347      1  \n",
       "3  48.285210      15.597      0  \n",
       "4  48.226200      15.509      1  \n",
       "5  48.224670      15.714      1  "
      ]
     },
     "execution_count": 347,
     "metadata": {},
     "output_type": "execute_result"
    }
   ],
   "source": [
    "candidates_df = kepler_clean_df[kepler_clean_df[\"koi_disposition\"].str.strip().str.upper() == \"CANDIDATE\"].copy()\n",
    "\n",
    "labeled_df = kepler_clean_df[kepler_clean_df[\"koi_disposition\"].str.strip().str.upper().isin([\"CONFIRMED\",\"FALSE POSITIVE\"])].copy()\n",
    "\n",
    "labeled_df[\"label\"] = (\n",
    "    labeled_df[\"koi_disposition\"]\n",
    "    .str.strip().str.upper()\n",
    "    .map({\"CONFIRMED\": 1, \"FALSE POSITIVE\": 0})\n",
    ")\n",
    "\n",
    "labeled_df.drop([\"koi_disposition\"], axis=1, inplace=True)\n",
    "labeled_df.head(5)\n"
   ]
  },
  {
   "cell_type": "markdown",
   "id": "4945fa95",
   "metadata": {},
   "source": [
    "Let's check for missing values now"
   ]
  },
  {
   "cell_type": "code",
   "execution_count": 348,
   "id": "17267cdc",
   "metadata": {},
   "outputs": [
    {
     "data": {
      "text/plain": [
       "koi_tce_plnt_num    286\n",
       "koi_srad            259\n",
       "koi_impact          259\n",
       "koi_slogg           259\n",
       "koi_depth           259\n",
       "koi_prad            259\n",
       "koi_steff           259\n",
       "koi_model_snr       259\n",
       "koi_insol           219\n",
       "koi_kepmag            1\n",
       "dec                   0\n",
       "ra                    0\n",
       "kepid                 0\n",
       "koi_fpflag_nt         0\n",
       "koi_duration          0\n",
       "koi_period            0\n",
       "koi_fpflag_ec         0\n",
       "koi_fpflag_co         0\n",
       "koi_fpflag_ss         0\n",
       "label                 0\n",
       "dtype: int64"
      ]
     },
     "execution_count": 348,
     "metadata": {},
     "output_type": "execute_result"
    }
   ],
   "source": [
    "labeled_df.isnull().sum().sort_values(ascending=False)"
   ]
  },
  {
   "cell_type": "code",
   "execution_count": 349,
   "id": "e10c9983",
   "metadata": {},
   "outputs": [
    {
     "data": {
      "text/plain": [
       "kepid               0\n",
       "koi_fpflag_nt       0\n",
       "koi_fpflag_ss       0\n",
       "koi_fpflag_co       0\n",
       "koi_fpflag_ec       0\n",
       "koi_period          0\n",
       "koi_impact          0\n",
       "koi_duration        0\n",
       "koi_depth           0\n",
       "koi_prad            0\n",
       "koi_insol           0\n",
       "koi_model_snr       0\n",
       "koi_tce_plnt_num    0\n",
       "koi_steff           0\n",
       "koi_slogg           0\n",
       "koi_srad            0\n",
       "ra                  0\n",
       "dec                 0\n",
       "koi_kepmag          0\n",
       "label               0\n",
       "dtype: int64"
      ]
     },
     "execution_count": 349,
     "metadata": {},
     "output_type": "execute_result"
    }
   ],
   "source": [
    "labeled_df.dropna(inplace=True, axis=0)\n",
    "labeled_df.isnull().sum()"
   ]
  },
  {
   "cell_type": "markdown",
   "id": "dcfdffd9",
   "metadata": {},
   "source": [
    "Any further feature engineering (logarithmizing, creating new features etc.) will happen at later stages, as a measure to obtain the best model across various metrics."
   ]
  },
  {
   "cell_type": "markdown",
   "id": "8215270a",
   "metadata": {},
   "source": [
    "The set is pretty much ready for analysis - further processing will be performed before each individual model, depending on its nature. I will evaluate the following models:  \n",
    "- Logistic Regression\n",
    "- K Neighbors Classifier\n",
    "- Support Vector Machine\n",
    "- Random Forest\n",
    "- Gradient Boosting\n",
    "- Histogram-based Gradient Boosting Classification Tree"
   ]
  },
  {
   "cell_type": "markdown",
   "id": "418cd280",
   "metadata": {},
   "source": [
    "As for metrics, the common approach in available papers was to maximize recall and precision. We'll set a threshold precision (e.g. above 0.90) and try to maximize recall for this precision. The primary metric will be PR AUC (area under the curve of precision-recall)"
   ]
  },
  {
   "cell_type": "markdown",
   "id": "2aa6b972",
   "metadata": {},
   "source": [
    "## Logistic Regression\n",
    "Let's start with Logistic Regression. This will require scaling the data. We'll also group by koi_id - which is why we'll use GroupShuffleSplit. We'll perform cross-validation and grid search. "
   ]
  },
  {
   "cell_type": "code",
   "execution_count": 350,
   "id": "31f497e7",
   "metadata": {},
   "outputs": [
    {
     "name": "stdout",
     "output_type": "stream",
     "text": [
      "Best PR-AUC: 0.9779207763817126\n",
      "Best params: {'clf__C': 100, 'clf__class_weight': None, 'clf__max_iter': 5000, 'clf__penalty': 'l1', 'clf__solver': 'liblinear', 'clf__tol': 0.001}\n"
     ]
    }
   ],
   "source": [
    "from sklearn.model_selection import GroupShuffleSplit, GroupKFold, GridSearchCV\n",
    "from sklearn.compose import ColumnTransformer\n",
    "from sklearn.linear_model import LogisticRegression\n",
    "from sklearn.preprocessing import StandardScaler\n",
    "from sklearn.pipeline import Pipeline\n",
    "import numpy as np\n",
    "\n",
    "drop = [\"label\", \"kepid\"]\n",
    "feat_cols = [c for c in labeled_df.columns if c not in drop]\n",
    "cont = [\"koi_period\", \"koi_impact\", \"koi_duration\", \"koi_depth\", \"koi_prad\", \"koi_insol\", \"koi_model_snr\", \n",
    "        \"koi_steff\", \"koi_slogg\", \"koi_srad\", \"ra\", \"dec\", \"koi_kepmag\"]\n",
    "flags = [\"koi_fpflag_nt\", \"koi_fpflag_ss\", \"koi_fpflag_co\", \"koi_fpflag_ec\", \"koi_tce_plnt_num\"]\n",
    "\n",
    "X = labeled_df[feat_cols]\n",
    "y = labeled_df[\"label\"]\n",
    "groups = labeled_df[\"kepid\"]\n",
    "\n",
    "gss = GroupShuffleSplit(n_splits=1, test_size=0.2, random_state=42)\n",
    "train_idx, test_idx = next(gss.split(X, y, groups=groups))\n",
    "\n",
    "X_train, X_test = X.iloc[train_idx], X.iloc[test_idx]\n",
    "y_train, y_test = y.iloc[train_idx], y.iloc[test_idx]\n",
    "groups_train = groups.iloc[train_idx]\n",
    "\n",
    "preprocess = ColumnTransformer([\n",
    "    (\"scale\", StandardScaler(), cont),\n",
    "    (\"pass\", \"passthrough\", flags)\n",
    "])\n",
    "\n",
    "pipeline = Pipeline([\n",
    "    (\"preprocessing\", preprocess),\n",
    "    (\"clf\", LogisticRegression(max_iter=2000, class_weight=\"balanced\", solver=\"lbfgs\"))\n",
    "])\n",
    "\n",
    "C_l2 = np.logspace(-3, 3, 7)                 # 1e-3 … 1e3\n",
    "C_l1 = [1e-3, 1e-2, 1e-1, 1, 10, 100]        # smaller cap for L1/EN\n",
    "\n",
    "param_grid = [\n",
    "    {\n",
    "        \"clf__penalty\": [\"l2\"],\n",
    "        \"clf__solver\": [\"lbfgs\"],\n",
    "        \"clf__C\": C_l2,\n",
    "        \"clf__class_weight\": [None, \"balanced\"],\n",
    "        \"clf__max_iter\": [3000],\n",
    "        \"clf__tol\": [1e-4, 1e-3],\n",
    "    },\n",
    "    {\n",
    "        \"clf__penalty\": [\"l1\"],\n",
    "        \"clf__solver\": [\"liblinear\"],\n",
    "        \"clf__C\": C_l1,\n",
    "        \"clf__class_weight\": [None, \"balanced\"],\n",
    "        \"clf__max_iter\": [5000],\n",
    "        \"clf__tol\": [1e-3],   \n",
    "    },\n",
    "    {\n",
    "        \"clf__penalty\": [\"elasticnet\"],\n",
    "        \"clf__solver\": [\"saga\"],\n",
    "        \"clf__l1_ratio\": [0.1, 0.5, 0.9],\n",
    "        \"clf__C\": [0.1, 1, 10],\n",
    "        \"clf__class_weight\": [None, \"balanced\"],\n",
    "        \"clf__max_iter\": [5000],\n",
    "        \"clf__tol\": [1e-3],\n",
    "    },\n",
    "]\n",
    "\n",
    "kf = GroupKFold(n_splits=5)\n",
    "log_reg_cv = GridSearchCV(pipeline, param_grid=param_grid, scoring=\"average_precision\", cv=kf)\n",
    "log_reg_cv.fit(X_train, y_train, groups=groups_train)\n",
    "\n",
    "log_reg_best_model = log_reg_cv.best_estimator_ \n",
    "print(\"Best PR-AUC:\", log_reg_cv.best_score_)\n",
    "print(\"Best params:\", log_reg_cv.best_params_)\n"
   ]
  },
  {
   "cell_type": "markdown",
   "id": "8eab5e0b",
   "metadata": {},
   "source": [
    "Let's check our model"
   ]
  },
  {
   "cell_type": "code",
   "execution_count": 351,
   "id": "59959932",
   "metadata": {},
   "outputs": [
    {
     "name": "stdout",
     "output_type": "stream",
     "text": [
      "              precision    recall  f1-score   support\n",
      "\n",
      "           0       0.98      0.94      0.96       900\n",
      "           1       0.91      0.96      0.94       518\n",
      "\n",
      "    accuracy                           0.95      1418\n",
      "   macro avg       0.94      0.95      0.95      1418\n",
      "weighted avg       0.95      0.95      0.95      1418\n",
      "\n",
      "[[850  50]\n",
      " [ 19 499]]\n"
     ]
    }
   ],
   "source": [
    "from sklearn.metrics import classification_report, confusion_matrix\n",
    "\n",
    "y_pred = log_reg_best_model.predict(X_test)\n",
    "print(classification_report(y_test, y_pred))\n",
    "print(confusion_matrix(y_test, y_pred))"
   ]
  },
  {
   "cell_type": "code",
   "execution_count": 352,
   "id": "49ff5498",
   "metadata": {},
   "outputs": [
    {
     "data": {
      "image/png": "[encoded data removed]",
      "text/plain": [
       "<Figure size 640x480 with 1 Axes>"
      ]
     },
     "metadata": {},
     "output_type": "display_data"
    },
    {
     "name": "stdout",
     "output_type": "stream",
     "text": [
      "ROC-AUC score: 0.9873058773058773\n",
      "Test PR-AUC (AP): 0.9762862695731223\n"
     ]
    }
   ],
   "source": [
    "from sklearn.metrics import roc_curve, roc_auc_score, average_precision_score\n",
    "import matplotlib.pyplot as plt\n",
    "y_pred_probabilities = log_reg_best_model.predict_proba(X_test)[:, 1]\n",
    "fpr, tpr, _ = roc_curve(y_test, y_pred_probabilities)\n",
    "plt.plot([0,1], [0,1], 'k--')\n",
    "plt.plot(fpr, tpr)\n",
    "plt.xlabel(\"False Positive Rate\")\n",
    "plt.ylabel(\"True Positive Rate\")\n",
    "plt.title(\"Logistic Regression ROC curve\")\n",
    "plt.show()\n",
    "print(\"ROC-AUC score:\", roc_auc_score(y_test, y_pred_probabilities))\n",
    "print(\"Test PR-AUC (AP):\", average_precision_score(y_test, y_pred_probabilities))"
   ]
  },
  {
   "cell_type": "markdown",
   "id": "40c34042",
   "metadata": {},
   "source": [
    "Let's try out different thresholds to find the highest recall for the precision>=0.90"
   ]
  },
  {
   "cell_type": "code",
   "execution_count": 353,
   "id": "e0c9cb61",
   "metadata": {},
   "outputs": [
    {
     "name": "stdout",
     "output_type": "stream",
     "text": [
      "Chosen threshold: 0.380  (Precision≥0.90)\n",
      "Precision/Recall/F1 @ thr: 0.9014336917562724 0.971042471042471 0.9349442379182156\n",
      "[[845  55]\n",
      " [ 15 503]]\n"
     ]
    }
   ],
   "source": [
    "from sklearn.metrics import precision_score, recall_score, f1_score, confusion_matrix\n",
    "\n",
    "thresholds = np.linspace(0.0, 1.0, 101)  \n",
    "rows = []\n",
    "for thr in thresholds:\n",
    "    y_hat = (y_pred_probabilities >= thr).astype(int)\n",
    "    p = precision_score(y_test, y_hat, zero_division=0)\n",
    "    r = recall_score(y_test, y_hat, zero_division=0)\n",
    "    f1 = f1_score(y_test, y_hat, zero_division=0)\n",
    "    rows.append((thr, p, r, f1))\n",
    "\n",
    "cand = [(thr, p, r, f1) for (thr, p, r, f1) in rows if p >= 0.90]\n",
    "if cand:\n",
    "    thr_star, p_star, r_star, f1 = max(cand, key=lambda x: x[2]) \n",
    "else:\n",
    "    thr_star, p_star, r_star, f1 = 0.5, None, None \n",
    "\n",
    "print(f\"Chosen threshold: {thr_star:.3f}  (Precision≥0.90)\")\n",
    "y_pred_thr = (y_pred_probabilities >= thr_star).astype(int)\n",
    "print(\"Precision/Recall/F1 @ thr:\", \n",
    "      precision_score(y_test, y_pred_thr), \n",
    "      recall_score(y_test, y_pred_thr),\n",
    "      f1_score(y_test, y_pred_thr))\n",
    "print(confusion_matrix(y_test, y_pred_thr))"
   ]
  },
  {
   "cell_type": "markdown",
   "id": "611d1790",
   "metadata": {},
   "source": [
    "### Conclusion  \n",
    "The highest recall when precision is above 0.90 (0.901) is 0.971. The test PR-AUC is 0.977. This means that the model is very good and reliable. Potential improvements include further data preprocessing (feature engineering, logarithmizing etc.)"
   ]
  },
  {
   "cell_type": "markdown",
   "id": "39180725",
   "metadata": {},
   "source": [
    "## Random Forest  \n",
    "Let's continue with a Random Forest. This is a model with a different base to the Logistic Regression model, so it might be combined with it to create an ensemble algorithm. Random Forest does not need scaling. We'll reuse the same train and test sets as for Logistic Regression"
   ]
  },
  {
   "cell_type": "code",
   "execution_count": 354,
   "id": "2ab4f671",
   "metadata": {},
   "outputs": [
    {
     "name": "stdout",
     "output_type": "stream",
     "text": [
      "Fitting 5 folds for each of 24 candidates, totalling 120 fits\n",
      "RF best PR-AUC (CV): 0.9992275490845375\n",
      "RF best params: {'rf__class_weight': 'balanced_subsample', 'rf__max_depth': 10, 'rf__max_features': 'sqrt', 'rf__min_samples_leaf': 2}\n"
     ]
    }
   ],
   "source": [
    "from sklearn.ensemble import RandomForestClassifier\n",
    "\n",
    "preprocess_rf = ColumnTransformer([\n",
    "    (\"pass\", \"passthrough\", cont + flags)\n",
    "])\n",
    "\n",
    "pipeline_rf = Pipeline([\n",
    "    (\"preprocessing\", preprocess_rf),\n",
    "    (\"rf\", RandomForestClassifier(random_state=42, n_jobs=-1))\n",
    "])\n",
    "\n",
    "param_grid_rf = {\n",
    "    \"rf__max_depth\": [None, 10],              \n",
    "    \"rf__min_samples_leaf\": [1, 2, 4],         \n",
    "    \"rf__max_features\": [\"sqrt\", 0.5],       \n",
    "    \"rf__class_weight\": [None, \"balanced_subsample\"]\n",
    "}\n",
    "\n",
    "kf = GroupKFold(n_splits=5)\n",
    "rf_cv = GridSearchCV(pipeline_rf, param_grid_rf, scoring=\"average_precision\", cv=kf, n_jobs=-1, refit=True, verbose=1)\n",
    "rf_cv.fit(X_train, y_train, groups=groups_train)\n",
    "\n",
    "rf_best_model = rf_cv.best_estimator_\n",
    "print(\"RF best PR-AUC (CV):\", rf_cv.best_score_)\n",
    "print(\"RF best params:\", rf_cv.best_params_)"
   ]
  },
  {
   "cell_type": "markdown",
   "id": "3522d86e",
   "metadata": {},
   "source": [
    "Let's check our model"
   ]
  },
  {
   "cell_type": "code",
   "execution_count": 355,
   "id": "41fc773d",
   "metadata": {},
   "outputs": [
    {
     "name": "stdout",
     "output_type": "stream",
     "text": [
      "              precision    recall  f1-score   support\n",
      "\n",
      "           0       0.99      1.00      1.00       900\n",
      "           1       1.00      0.99      0.99       518\n",
      "\n",
      "    accuracy                           0.99      1418\n",
      "   macro avg       0.99      0.99      0.99      1418\n",
      "weighted avg       0.99      0.99      0.99      1418\n",
      "\n",
      "[[898   2]\n",
      " [  7 511]]\n"
     ]
    }
   ],
   "source": [
    "y_pred_rf = rf_best_model.predict(X_test)\n",
    "print(classification_report(y_test, y_pred_rf))\n",
    "print(confusion_matrix(y_test, y_pred_rf))"
   ]
  },
  {
   "cell_type": "code",
   "execution_count": 356,
   "id": "c57cc78d",
   "metadata": {},
   "outputs": [
    {
     "data": {
      "image/png": "[encoded data removed]",
      "text/plain": [
       "<Figure size 640x480 with 1 Axes>"
      ]
     },
     "metadata": {},
     "output_type": "display_data"
    },
    {
     "name": "stdout",
     "output_type": "stream",
     "text": [
      "ROC-AUC score: 0.9998477048477048\n",
      "Test PR-AUC (AP): 0.999746310194388\n"
     ]
    }
   ],
   "source": [
    "y_pred_rf_probabilities = rf_best_model.predict_proba(X_test)[:, 1]\n",
    "fpr, tpr, _ = roc_curve(y_test, y_pred_rf_probabilities)\n",
    "plt.plot([0,1], [0,1], 'k--')\n",
    "plt.plot(fpr, tpr)\n",
    "plt.xlabel(\"False Positive Rate\")\n",
    "plt.ylabel(\"True Positive Rate\")\n",
    "plt.title(\"Random Forest ROC curve\")\n",
    "plt.show()\n",
    "print(\"ROC-AUC score:\", roc_auc_score(y_test, y_pred_rf_probabilities))\n",
    "print(\"Test PR-AUC (AP):\", average_precision_score(y_test, y_pred_rf_probabilities))"
   ]
  },
  {
   "cell_type": "code",
   "execution_count": 357,
   "id": "01add622",
   "metadata": {},
   "outputs": [
    {
     "name": "stdout",
     "output_type": "stream",
     "text": [
      "Chosen threshold: 0.120  (Precision≥0.90)\n",
      "Precision/Recall/F1 @ thr: 0.9040139616055847 1.0 0.9495875343721356\n",
      "[[845  55]\n",
      " [  0 518]]\n"
     ]
    }
   ],
   "source": [
    "thresholds = np.linspace(0.0, 1.0, 101)  \n",
    "rows = []\n",
    "for thr in thresholds:\n",
    "    y_hat = (y_pred_rf_probabilities >= thr).astype(int)\n",
    "    p = precision_score(y_test, y_hat, zero_division=0)\n",
    "    r = recall_score(y_test, y_hat, zero_division=0)\n",
    "    f1 = f1_score(y_test, y_hat, zero_division=0)\n",
    "    rows.append((thr, p, r, f1))\n",
    "\n",
    "cand = [(thr, p, r, f1) for (thr, p, r, f1) in rows if p >= 0.90]\n",
    "if cand:\n",
    "    thr_star, p_star, r_star, f1 = max(cand, key=lambda x: x[2]) \n",
    "else:\n",
    "    thr_star, p_star, r_star, f1 = 0.5, None, None \n",
    "\n",
    "print(f\"Chosen threshold: {thr_star:.3f}  (Precision≥0.90)\")\n",
    "y_pred_thr = (y_pred_rf_probabilities >= thr_star).astype(int)\n",
    "print(\"Precision/Recall/F1 @ thr:\", \n",
    "      precision_score(y_test, y_pred_thr), \n",
    "      recall_score(y_test, y_pred_thr),\n",
    "      f1_score(y_test, y_pred_thr))\n",
    "print(confusion_matrix(y_test, y_pred_thr))"
   ]
  },
  {
   "cell_type": "markdown",
   "id": "3a422c91",
   "metadata": {},
   "source": [
    "### Conclusion\n",
    "We managed to obtain a model which achieves a recall of 1.00 - it means that the model correctly identified all confirmed planets in the test set - without omitting a single one. The PR-AUC is also very close to 1.000, which suggests an almost perfectly reliable model."
   ]
  },
  {
   "cell_type": "markdown",
   "id": "e5f409e5",
   "metadata": {},
   "source": [
    "## Stacking - Logistic Regression + Random Forest  \n",
    "Now that we have to models trained, let's try to combine their results to see if we can achieve an even better model. "
   ]
  },
  {
   "cell_type": "code",
   "execution_count": 387,
   "id": "62a2d1f9",
   "metadata": {},
   "outputs": [
    {
     "name": "stdout",
     "output_type": "stream",
     "text": [
      "[(array([   2,    6,    8, ..., 5693, 5694, 5695]), array([   0,    1,    3, ..., 5688, 5692, 5696])), (array([   0,    1,    3, ..., 5693, 5695, 5696]), array([   2,   29,   31, ..., 5690, 5691, 5694])), (array([   0,    1,    2, ..., 5692, 5694, 5696]), array([   6,    9,   14, ..., 5689, 5693, 5695])), (array([   0,    1,    2, ..., 5694, 5695, 5696]), array([  10,   12,   15, ..., 5656, 5661, 5678])), (array([   0,    1,    2, ..., 5694, 5695, 5696]), array([   8,   11,   24, ..., 5673, 5680, 5682]))]\n"
     ]
    }
   ],
   "source": [
    "# We perform cross-validation for every training row\n",
    "gkf = GroupKFold(n_splits=5)\n",
    "splits = list(gkf.split(X_train, y_train, groups=groups_train))\n",
    "\n",
    "bases = [(\"lr\", log_reg_best_model), (\"rf\", rf_best_model)]\n",
    "Z_train = np.zeros((X_train.shape[0], len(bases))) # create an empty column of size no_of_rows x no_of_models\n",
    "# Z_train will store a probability for that row for each model - so the first column will contain LR's probabilities for each row, and the second one - RT's probabilities\n",
    "print(splits)"
   ]
  },
  {
   "cell_type": "code",
   "execution_count": 376,
   "id": "1debbfb8",
   "metadata": {},
   "outputs": [
    {
     "name": "stdout",
     "output_type": "stream",
     "text": [
      "Fitting 5 folds for each of 32 candidates, totalling 160 fits\n",
      "Meta CV PR-AUC: 0.9992180886089699\n",
      "Meta best params: {'C': np.float64(1000.0), 'class_weight': None, 'max_iter': 5000, 'penalty': 'l2', 'solver': 'lbfgs', 'tol': 0.001}\n"
     ]
    }
   ],
   "source": [
    "from sklearn.base import clone\n",
    "\n",
    "# We perform cross-validation for every training row\n",
    "gkf = GroupKFold(n_splits=5)\n",
    "splits = list(gkf.split(X_train, y_train, groups=groups_train))\n",
    "\n",
    "bases = [(\"lr\", log_reg_best_model), (\"rf\", rf_best_model)]\n",
    "Z_train = np.zeros((X_train.shape[0], len(bases))) # create an empty column of size no_of_rows x no_of_models\n",
    "\n",
    "for m, (name, model) in enumerate(bases): \n",
    "    oof = np.zeros(X_train.shape[0])\n",
    "    for training, test in splits:\n",
    "        mdl = clone(model)          \n",
    "        mdl.fit(X_train.iloc[training], y_train.iloc[training])\n",
    "        oof[test] = mdl.predict_proba(X_train.iloc[test])[:, 1]\n",
    "    Z_train[:, m] = oof\n",
    "# Z_train stores a probability for that row for each model - so the first column will contain LR's probabilities for each row, and the second one - RT's probabilities\n",
    "\n",
    "meta_base = LogisticRegression() # LR will be used as a model that learns the outputs of base models\n",
    "\n",
    "param_grid_meta = [ # try out different LR's hyperparameters\n",
    "    {  \n",
    "        \"C\": np.logspace(-3, 3, 7),\n",
    "        \"penalty\": [\"l2\"],\n",
    "        \"solver\": [\"lbfgs\"],\n",
    "        \"class_weight\": [None, \"balanced\"],\n",
    "        \"max_iter\": [5000],\n",
    "        \"tol\": [1e-3],\n",
    "    },\n",
    "    {  \n",
    "        \"C\": [0.1, 1, 10],\n",
    "        \"penalty\": [\"elasticnet\"],\n",
    "        \"l1_ratio\": [0.1, 0.5, 0.9],\n",
    "        \"solver\": [\"saga\"],\n",
    "        \"class_weight\": [None, \"balanced\"],\n",
    "        \"max_iter\": [5000],\n",
    "        \"tol\": [1e-3],\n",
    "    },\n",
    "]\n",
    "\n",
    "grid_meta = GridSearchCV(\n",
    "    estimator=meta_base,\n",
    "    param_grid=param_grid_meta,\n",
    "    scoring=\"average_precision\",\n",
    "    cv=splits,      \n",
    "    n_jobs=-1,\n",
    "    refit=True,\n",
    "    verbose=1\n",
    ")\n",
    "\n",
    "Z_test = np.column_stack([\n",
    "    clone(model).fit(X_train, y_train).predict_proba(X_test)[:, 1]\n",
    "    for _, model in bases\n",
    "])\n",
    "# same shape as Z_train\n",
    "\n",
    "grid_meta.fit(Z_train, y_train)   # use model's probabilities to learn, not features\n",
    "meta = grid_meta.best_estimator_  # tuned meta-learner\n",
    "print(\"Meta CV PR-AUC:\", grid_meta.best_score_)\n",
    "print(\"Meta best params:\", grid_meta.best_params_)"
   ]
  },
  {
   "cell_type": "code",
   "execution_count": 378,
   "id": "d1b34cf1",
   "metadata": {},
   "outputs": [
    {
     "data": {
      "image/png": "[encoded data removed]",
      "text/plain": [
       "<Figure size 640x480 with 1 Axes>"
      ]
     },
     "metadata": {},
     "output_type": "display_data"
    },
    {
     "name": "stdout",
     "output_type": "stream",
     "text": [
      "ROC-AUC score: 0.9998326898326898\n",
      "Test PR-AUC (AP): 0.9997285126220509\n"
     ]
    }
   ],
   "source": [
    "meta_prob = grid_meta.predict_proba(Z_test)[:, 1]\n",
    "fpr, tpr, _ = roc_curve(y_test, meta_prob)\n",
    "plt.plot([0,1], [0,1], 'k--')\n",
    "plt.plot(fpr, tpr)\n",
    "plt.xlabel(\"False Positive Rate\")\n",
    "plt.ylabel(\"True Positive Rate\")\n",
    "plt.title(\"Stacking Algorithm ROC curve\")\n",
    "plt.show()\n",
    "print(\"ROC-AUC score:\", roc_auc_score(y_test, meta_prob))\n",
    "print(\"Test PR-AUC (AP):\", average_precision_score(y_test, meta_prob))"
   ]
  },
  {
   "cell_type": "code",
   "execution_count": 379,
   "id": "f02c4425",
   "metadata": {},
   "outputs": [
    {
     "name": "stdout",
     "output_type": "stream",
     "text": [
      "Chosen threshold: 0.020  (Precision≥0.90)\n",
      "Precision/Recall/F1 @ thr: 0.9434306569343066 0.9980694980694981 0.9699812382739212\n",
      "[[869  31]\n",
      " [  1 517]]\n"
     ]
    }
   ],
   "source": [
    "thresholds = np.linspace(0.0, 1.0, 101)  \n",
    "rows = []\n",
    "for thr in thresholds:\n",
    "    y_hat = (meta_prob >= thr).astype(int)\n",
    "    p = precision_score(y_test, y_hat, zero_division=0)\n",
    "    r = recall_score(y_test, y_hat, zero_division=0)\n",
    "    f1 = f1_score(y_test, y_hat, zero_division=0)\n",
    "    rows.append((thr, p, r, f1))\n",
    "\n",
    "cand = [(thr, p, r, f1) for (thr, p, r, f1) in rows if p >= 0.90]\n",
    "if cand:\n",
    "    thr_star, p_star, r_star, f1 = max(cand, key=lambda x: x[2]) \n",
    "else:\n",
    "    thr_star, p_star, r_star, f1 = 0.5, None, None \n",
    "\n",
    "print(f\"Chosen threshold: {thr_star:.3f}  (Precision≥0.90)\")\n",
    "y_pred_thr = (meta_prob >= thr_star).astype(int)\n",
    "print(\"Precision/Recall/F1 @ thr:\", \n",
    "      precision_score(y_test, y_pred_thr), \n",
    "      recall_score(y_test, y_pred_thr),\n",
    "      f1_score(y_test, y_pred_thr))\n",
    "print(confusion_matrix(y_test, y_pred_thr))"
   ]
  },
  {
   "cell_type": "markdown",
   "id": "7d427d37",
   "metadata": {},
   "source": [
    "## Conclusion\n",
    "The Stacking Algorithm and the Random Forest model alone are virtually equally precise and have equally high recall and PR-AUC for provided test dataset, with a slight advantage of the Random Forest model alone. "
   ]
  }
 ],
 "metadata": {
  "language_info": {
   "name": "python"
  }
 },
 "nbformat": 4,
 "nbformat_minor": 5
}
